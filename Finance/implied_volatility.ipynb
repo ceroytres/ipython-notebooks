{
 "cells": [
  {
   "cell_type": "markdown",
   "metadata": {},
   "source": [
    "# Implied Volatility for a European Call Option"
   ]
  },
  {
   "cell_type": "markdown",
   "metadata": {},
   "source": [
    "Implied Volatility of a option is estimate of its underlying volatility. The arbitrage free price for a European Call option under the [Black-Scholes model](https://en.wikipedia.org/wiki/Black%E2%80%93Scholes_model) is:"
   ]
  },
  {
   "cell_type": "markdown",
   "metadata": {},
   "source": [
    "$$C_0=S_0\\mathrm{\\Phi}\\bigg(\\frac{\\log{\\frac{S_0}{K^{*}}}}{\\sigma\\sqrt{T}}+\\frac{1}{2} \\sigma \\sqrt{T}\\bigg)-K^{*}\\mathrm{\\Phi}\\bigg(\\frac{\\log{\\frac{S_0}{K^{*}}}}{\\sigma\\sqrt{T}}-\\frac{1}{2} \\sigma \\sqrt{T}\\bigg)$$"
   ]
  },
  {
   "cell_type": "markdown",
   "metadata": {},
   "source": [
    "where $S_0$ is the inital stock price, $K$ is the strike price, $r$ is the interest rate per year, $T$ is the expiration time in years, and $\\sigma$ is the volatility. Define $K^{*}=Ke^{-rT}$. Solving for the implied volatility involves solving for $$f(\\sigma)=P-C_0(\\sigma)=0$$ where $P$ is the current option price. The implied volatility can be solved using a root-solving method such as Netwon's method."
   ]
  },
  {
   "cell_type": "code",
   "execution_count": 1,
   "metadata": {
    "collapsed": false
   },
   "outputs": [
    {
     "name": "stdout",
     "output_type": "stream",
     "text": [
      "Iteration: 1 f(x)= -10.063031 x=0.745443\n",
      "Iteration: 2 f(x)= -0.444037 x=0.677024\n",
      "Iteration: 3 f(x)= -0.012436 x=0.674989\n",
      "Iteration: 4 f(x)= -0.000013 x=0.674987\n",
      "Iteration: 5 f(x)= -0.000000 x=0.674987\n",
      "The implied volatility is 0.674987\n"
     ]
    }
   ],
   "source": [
    "#!/usr/bin/env python\n",
    "# -*- coding: utf-8 -*-\n",
    "from scipy.stats import norm\n",
    "import numpy as np\n",
    "\n",
    "def netwon_solve(func,x0):\n",
    "    \n",
    "    tol=1e-9\n",
    "    max_iter=1e4\n",
    "    f=np.inf\n",
    "    x=x0\n",
    "    \n",
    "    k=0\n",
    "    while abs(f)>tol and max_iter>=k:\n",
    "        k+=1\n",
    "        f,g=func(x)\n",
    "        x=x-(f/g)\n",
    "        print \"Iteration: %d f(x)= %f x=%f\" % (k,f,x) \n",
    "        \n",
    "    return x\n",
    "    \n",
    "    \n",
    "\n",
    "    \n",
    "def europeanCall_impliedVolatility(S0,sig,K,T,r,Price):\n",
    "    \n",
    "    norm_x=norm()\n",
    "    Ks=K*np.exp(-r*T)\n",
    "    Z=np.log(S0/Ks)/(sig*np.sqrt(T))\n",
    "    D=.5*sig*np.sqrt(T)\n",
    "    \n",
    "    \n",
    "    dZ=.5*np.sqrt(T)\n",
    "    dD=np.log(S0/Ks)/((sig**2)*np.sqrt(T))\n",
    "    \n",
    "    C=Price-(S0*norm_x.cdf(Z+D)-Ks*norm_x.cdf(Z-D))\n",
    "    dC=-(S0*(dZ-dD)*norm_x.pdf(Z+D)+Ks*(dZ+dD)*norm_x.pdf(Z-D))\n",
    "    \n",
    "    return C,dC\n",
    "\n",
    "\n",
    "\n",
    "if __name__==\"__main__\":\n",
    "    \n",
    "    S0=82.0\n",
    "    K=70.0\n",
    "    Price=14.0\n",
    "    T=1.0/12.0\n",
    "    r=.06\n",
    "    \n",
    "    \n",
    "    func=lambda sig:europeanCall_impliedVolatility(S0,sig,K,T,r,Price)\n",
    "    \n",
    "    sig=2\n",
    "    \n",
    "    sig=netwon_solve(func,sig)\n",
    "    \n",
    "    \n",
    "    print \"The implied volatility is %f\" % sig\n",
    "    \n",
    "    "
   ]
  },
  {
   "cell_type": "markdown",
   "metadata": {},
   "source": [
    "#### References: \n",
    "1. Introduction to the Mathematics of Finance, Ruth J. Williams,American Mathematical Society, 2006  \n",
    "2. http://www.investopedia.com/articles/optioninvestor/08/implied-volatility.asp"
   ]
  },
  {
   "cell_type": "code",
   "execution_count": null,
   "metadata": {
    "collapsed": true
   },
   "outputs": [],
   "source": []
  }
 ],
 "metadata": {
  "kernelspec": {
   "display_name": "Python 2",
   "language": "python",
   "name": "python2"
  },
  "language_info": {
   "codemirror_mode": {
    "name": "ipython",
    "version": 2
   },
   "file_extension": ".py",
   "mimetype": "text/x-python",
   "name": "python",
   "nbconvert_exporter": "python",
   "pygments_lexer": "ipython2",
   "version": "2.7.11"
  }
 },
 "nbformat": 4,
 "nbformat_minor": 0
}
