{
 "cells": [
  {
   "cell_type": "markdown",
   "metadata": {},
   "source": [
    "# Gradient Descent"
   ]
  },
  {
   "cell_type": "markdown",
   "metadata": {},
   "source": [
    "Gradient Descent is an algorithm for solving unconstrainted optimization problem of the form\n",
    "\n",
    "$$\\text{min}_\\mathbf{x} f(\\mathbf{x})$$"
   ]
  },
  {
   "cell_type": "markdown",
   "metadata": {},
   "source": [
    "# Descent Direction"
   ]
  },
  {
   "cell_type": "markdown",
   "metadata": {},
   "source": [
    "Suppose $f: \\mathbb{R}^n \\rightarrow \\mathbb{R}$. A descent direction is a direction $\\mathbf{p}$ such that \n",
    "$$f(\\mathbf{x}) > f(\\mathbf{x}+\\mathbf{p}) $$\n"
   ]
  },
  {
   "cell_type": "markdown",
   "metadata": {},
   "source": [
    "A direction of descent satisfies following inequality:\n",
    "$$\\nabla f(\\mathbf{x})^T \\mathbf{p} < 0 $$"
   ]
  },
  {
   "cell_type": "code",
   "execution_count": 4,
   "metadata": {
    "collapsed": false
   },
   "outputs": [],
   "source": [
    "%matplotlib qt\n",
    "import matplotlib.pyplot as plt\n",
    "import numpy as np\n",
    "\n",
    "n=np.arange(-5,5,.1)\n",
    "X,Y=np.meshgrid(n,n)\n",
    "F=.5*X**2+2*Y**2\n",
    "\n",
    "x=np.random.randn(2,1)+5*np.random.rand(2,1)\n",
    "q=x.copy()\n",
    "A=np.array([[.5,0],[0,2]])\n",
    "g=A.dot(x)\n",
    "norm_g=g.T.dot(g)\n",
    "\n",
    "path=[x.copy()]\n",
    "tol=1e-9\n",
    "t=1\n",
    "\n",
    "while norm_g>tol:\n",
    "    x-=g*(g.T.dot(g)/(g.T.dot(A.dot(g))))\n",
    "    x-=g/np.sqrt(t)\n",
    "    g=A.dot(x)\n",
    "    norm_g=g.T.dot(g)\n",
    "    path.append(x.copy())\n",
    "    t+=1\n",
    "    if t==1e4:\n",
    "        break\n",
    "        \n",
    "path=np.array(path)\n",
    "\n",
    "\n",
    "plt.figure(figsize=(15,10))\n",
    "plt.contour(X,Y,F,50)\n",
    "plt.plot(path[:,0],path[:,1],'-o',alpha=.75)\n",
    "plt.show()"
   ]
  },
  {
   "cell_type": "code",
   "execution_count": null,
   "metadata": {
    "collapsed": true
   },
   "outputs": [],
   "source": []
  }
 ],
 "metadata": {
  "kernelspec": {
   "display_name": "Python 2",
   "language": "python",
   "name": "python2"
  },
  "language_info": {
   "codemirror_mode": {
    "name": "ipython",
    "version": 2
   },
   "file_extension": ".py",
   "mimetype": "text/x-python",
   "name": "python",
   "nbconvert_exporter": "python",
   "pygments_lexer": "ipython2",
   "version": "2.7.11"
  }
 },
 "nbformat": 4,
 "nbformat_minor": 0
}
