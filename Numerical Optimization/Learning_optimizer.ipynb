{
 "cells": [
  {
   "cell_type": "code",
   "execution_count": null,
   "metadata": {
    "collapsed": true
   },
   "outputs": [],
   "source": [
    "from keras.layers import LSTM\n",
    "from keras.models import Sequential\n",
    "from theano import shared, function\n",
    "import theano.tensor as T\n",
    "import numpy as np\n",
    "\n",
    "\n",
    "        \n",
    "\n",
    "class neural_coordOptimizer(object):\n",
    "    \n",
    "    \n",
    "    \n",
    "    def __init__(f,g,x):\n",
    "        self.f=f\n",
    "        self.g=g\n",
    "        self.x=x\n",
    "        self._L=shared(0)\n",
    "        self._x\n",
    "        \n",
    "        shape=x.shape\n",
    "        \n",
    "        self._optimizer=[]\n",
    "        for i in xrange(0,shape):\n",
    "            self._optimizer.append(Sequential())\n",
    "            self._optimizer[-1].add(LSTM(2,input_shape=(1,2))\n",
    "            self._optimizer[-1].add(LSTM(2))\n",
    "\n",
    "            \n",
    "        \n",
    "        "
   ]
  }
 ],
 "metadata": {
  "kernelspec": {
   "display_name": "Python 2",
   "language": "python",
   "name": "python2"
  },
  "language_info": {
   "codemirror_mode": {
    "name": "ipython",
    "version": 2
   },
   "file_extension": ".py",
   "mimetype": "text/x-python",
   "name": "python",
   "nbconvert_exporter": "python",
   "pygments_lexer": "ipython2",
   "version": "2.7.11"
  }
 },
 "nbformat": 4,
 "nbformat_minor": 0
}
