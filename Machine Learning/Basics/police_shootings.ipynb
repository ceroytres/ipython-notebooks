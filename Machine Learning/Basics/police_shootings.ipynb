{
 "cells": [
  {
   "cell_type": "markdown",
   "metadata": {},
   "source": [
    "# Police Shootings"
   ]
  },
  {
   "cell_type": "markdown",
   "metadata": {},
   "source": [
    "Let $R$ denote a person's race, $S=\\{0,1\\}$ indicate death by police shooting\n",
    "\n",
    "The Washington Post database allows us to measure the number of fatalities in police shootings by race in other words, in terms of probabilities $P(R=r|S=1)$. The probability $P(R=r|S=1)$ can be estimated as:\n",
    "$$ P(R=r|S=1) \\approx \\frac{\\text{count}(R=r,S=1)}{\\text{count}(S=1)} $$\n",
    "\n",
    "Typically, the percentage above is typically reported as a counterargument for police violence against people of color. For example, former Arkansas governor Mike Huckabee stated, [“More white people have been shot by police officers this past year than minorities.”](https://twitter.com/FoxNews/status/751862901548281856)\n",
    "\n",
    "Yet some inference can be carried out to estimate the relative size of the probabilities $P(S=1|R=r)$. Using Bayes rule, \n",
    "\n",
    "$$P(S=1|R=r)=\\frac{P(R=r|S=1)P(S=1)}{P(R=r)}$$\n",
    "\n",
    "The relative values of probabilities can be compared with bit of math.\n",
    "$$\\frac{P(S=1|R=r')}{P(S=1|R=r'')} = \\frac{P(R=r'|S=1)P(R=r'')}{P(R=r''|S=1)P(R=r')}$$\n",
    "\n",
    "$P(R|S)$ is estimated from the Washington Post database, and $P(R)$ is data that can be obtain from US census data. From the computation below, one can see given your a black person that the probability of being shot by the police approximately 2.4 times greater if you were white. Similar effect occurs when inspecting the same rate for Latinos.  "
   ]
  },
  {
   "cell_type": "code",
   "execution_count": 22,
   "metadata": {
    "collapsed": false
   },
   "outputs": [],
   "source": [
    "import numpy as np\n",
    "import pandas as pd\n",
    "import matplotlib.pyplot as plt\n",
    "import matplotlib\n",
    "matplotlib.style.use('ggplot')\n",
    "\n",
    "%matplotlib inline\n",
    "\n",
    "df_police=pd.read_csv('./data-police-shootings-master/fatal-police-shootings-data.csv')\n"
   ]
  },
  {
   "cell_type": "code",
   "execution_count": 24,
   "metadata": {
    "collapsed": false
   },
   "outputs": [
    {
     "name": "stdout",
     "output_type": "stream",
     "text": [
      "P(R=W|S=1)=0.485733\n",
      "P(R=B|S=1)=0.255474\n",
      "P(R=H|S=1)=0.167220\n",
      "P(R=N|S=1)=0.011944\n",
      "P(S=1|R=B)/P(S=1|R=W) ratio 2.436008\n",
      "P(S=1|R=H)/P(S=1|R=W)  ratio 1.204918\n",
      "P(S=1|R=N)/P(S=1|R=W) ratio 0.757377\n"
     ]
    }
   ],
   "source": [
    "#print df_police['manner_of_death'].unique()\n",
    "\n",
    "\n",
    "p_w=.616\n",
    "p_b=.133\n",
    "p_h=.176\n",
    "p_n=.02\n",
    "\n",
    "df_shot=df_police[(df_police['manner_of_death']=='shot') | (df_police['manner_of_death']=='shot and Tasered')]\n",
    "total_shootings=float(len(df_shot.index))\n",
    "\n",
    "w_shootings=len(df_shot[df_shot['race']=='W'].index)\n",
    "b_shootings=len(df_shot[df_shot['race']=='B'].index)\n",
    "h_shootings=len(df_shot[df_shot['race']=='H'].index)\n",
    "n_shootings=len(df_shot[df_shot['race']=='N'].index)\n",
    "\n",
    "p_ws=w_shootings/total_shootings\n",
    "p_bs=b_shootings/total_shootings\n",
    "p_hs=h_shootings/total_shootings\n",
    "p_ns=n_shootings/total_shootings\n",
    "\n",
    "\n",
    "print \"P(R=W|S=1)=%f\" % (p_ws)\n",
    "print \"P(R=B|S=1)=%f\" % (p_bs)\n",
    "print \"P(R=H|S=1)=%f\" % (p_hs)\n",
    "print \"P(R=N|S=1)=%f\" % (p_ns)\n",
    "print \"P(S=1|R=B)/P(S=1|R=W) ratio %f\" % ((p_w/p_b)*p_bs/p_ws )\n",
    "print \"P(S=1|R=H)/P(S=1|R=W)  ratio %f\" % ((p_w/p_h)*p_hs/p_ws )\n",
    "print \"P(S=1|R=N)/P(S=1|R=W) ratio %f\" %  ((p_w/p_n)*p_ns/p_ws)"
   ]
  },
  {
   "cell_type": "markdown",
   "metadata": {},
   "source": [
    "#### Sources\n",
    "1. https://www.census.gov/quickfacts/table/PST045215/00\n",
    "2. https://github.com/washingtonpost/data-police-shootings"
   ]
  },
  {
   "cell_type": "code",
   "execution_count": null,
   "metadata": {
    "collapsed": true
   },
   "outputs": [],
   "source": []
  }
 ],
 "metadata": {
  "kernelspec": {
   "display_name": "Python 2",
   "language": "python",
   "name": "python2"
  },
  "language_info": {
   "codemirror_mode": {
    "name": "ipython",
    "version": 2
   },
   "file_extension": ".py",
   "mimetype": "text/x-python",
   "name": "python",
   "nbconvert_exporter": "python",
   "pygments_lexer": "ipython2",
   "version": "2.7.11"
  }
 },
 "nbformat": 4,
 "nbformat_minor": 0
}
