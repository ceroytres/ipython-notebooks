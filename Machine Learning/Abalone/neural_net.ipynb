{
 "cells": [
  {
   "cell_type": "code",
   "execution_count": 14,
   "metadata": {
    "collapsed": false
   },
   "outputs": [
    {
     "name": "stdout",
     "output_type": "stream",
     "text": [
      "Training Set Size: (2505, 10)\n",
      "Test Set Size: (836, 10)\n"
     ]
    }
   ],
   "source": [
    "%matplotlib inline\n",
    "import matplotlib.pyplot as plt\n",
    "import pandas as pd\n",
    "import numpy as np\n",
    "import matplotlib.pyplot as plt\n",
    "from pandas.tools.plotting import scatter_matrix\n",
    "from sklearn.cross_validation import train_test_split\n",
    "from sklearn.preprocessing import StandardScaler\n",
    "import tensorflow as tf\n",
    "\n",
    "\n",
    "\n",
    "\n",
    "#Clean up data\n",
    "df=pd.read_csv('abalone.data',names=['Sex','Length','Diameter',\n",
    "                                      'Height','Whole weight','Shucked weight',\n",
    "                                      'Viscera weight','Shell weight','Rings'])\n",
    "df=pd.concat([pd.get_dummies(df['Sex']),df],axis=1) #one hot encode feature\n",
    "del df['Sex']\n",
    "\n",
    "#Create train, validation, test sets\n",
    "X_train, X_test, y_train, y_test=train_test_split(df.values[:,:-1],df.values[:,-1],test_size=.2)\n",
    "X_train, X_val, y_train, y_val=train_test_split(X_train,y_train,test_size=.25)\n",
    "\n",
    "print \"Training Set Size:\",(X_train.shape)\n",
    "print \"Test Set Size:\",(X_test.shape)\n",
    "\n",
    "scaler=StandardScaler()\n",
    "X_train[:,3:]=scaler.fit_transform(X_train[:,3:])\n",
    "X_test[:,3:]=scaler.transform(X_test[:,3:])\n",
    "X_val[:,3:]=scaler.transform(X_val[:,3:])"
   ]
  },
  {
   "cell_type": "code",
   "execution_count": 15,
   "metadata": {
    "collapsed": false
   },
   "outputs": [
    {
     "data": {
      "image/png": "[encoded data removed]",
      "text/plain": [
       "<matplotlib.figure.Figure at 0x7f3e2f784cd0>"
      ]
     },
     "metadata": {},
     "output_type": "display_data"
    }
   ],
   "source": [
    "label_counts_train=np.bincount(y_train.astype(np.int))\n",
    "label_counts_val=np.bincount(y_val.astype(np.int))\n",
    "\n",
    "label_counts_train=label_counts_train/float(label_counts_train.sum())\n",
    "label_counts_val=label_counts_val/float(label_counts_val.sum())\n",
    "\n",
    "ind=np.arange(len(label_counts_train))\n",
    "_, ax = plt.subplots(figsize=(15,10))\n",
    "ax.bar(ind,label_counts_train,1, color='r',alpha=.75)\n",
    "ind=np.arange(len(label_counts_val))\n",
    "ax.bar(ind,label_counts_val,1, color='b',alpha=.5)\n",
    "plt.legend(('Training Set','Validation Set'))\n",
    "plt.xlabel('Class Label')\n",
    "plt.ylabel('Normalized Counts')\n",
    "plt.grid()\n",
    "plt.show()"
   ]
  },
  {
   "cell_type": "code",
   "execution_count": 16,
   "metadata": {
    "collapsed": false
   },
   "outputs": [],
   "source": [
    "def one_hot_labels(y,num_labels):\n",
    "    return (np.arange(num_labels)==y[:,None]).astype(np.float)\n",
    "\n",
    "\n",
    "y_train=one_hot_labels(y_train-1,29)\n",
    "y_test=one_hot_labels(y_test-1,29)\n",
    "y_val=one_hot_labels(y_val-1,29)\n",
    "\n"
   ]
  },
  {
   "cell_type": "code",
   "execution_count": 17,
   "metadata": {
    "collapsed": true
   },
   "outputs": [],
   "source": [
    "#TODO\n",
    "\n",
    "def xiaver_init(shape):    \n",
    "    (fan_in, fan_out) = shape\n",
    "    low = -4*np.sqrt(6.0/(fan_in + fan_out))\n",
    "    high = 4*np.sqrt(6.0/(fan_in + fan_out))\n",
    "    return tf.Variable(tf.random_uniform(shape, minval=low, maxval=high, dtype=tf.float32))                \n",
    "                \n",
    "def accuracy(predictions, labels):\n",
    "  return (100.0 * np.sum(np.argmax(predictions, 1) == np.argmax(labels, 1))\n",
    "          / predictions.shape[0])\n"
   ]
  },
  {
   "cell_type": "code",
   "execution_count": 20,
   "metadata": {
    "collapsed": false
   },
   "outputs": [],
   "source": [
    "beta=1e-6\n",
    "batch_size = 100\n",
    "num_hidden = 70\n",
    "d=X_train.shape[1]\n",
    "num_labels=29\n",
    "\n",
    "graph = tf.Graph()\n",
    "with graph.as_default():\n",
    "    tf_train_x =tf.placeholder(tf.float32,shape=(batch_size, d))\n",
    "    tf_train_y = tf.placeholder(tf.float32, shape=(batch_size, num_labels))\n",
    "    tf_valid_x = tf.constant(X_val.astype(np.float32))\n",
    "    tf_test_x = tf.constant(X_test.astype(np.float32))\n",
    "    \n",
    "    W_1 = tf.Variable(tf.truncated_normal([d, num_hidden]))\n",
    "    b_1 = tf.Variable(tf.zeros([num_hidden]))\n",
    "\n",
    "    a_1=tf.matmul(tf_train_x,W_1)+b_1\n",
    "    h_1=tf.nn.relu(a_1)\n",
    "    \n",
    "    p=tf.placeholder(tf.float32)\n",
    "    h_1d=tf.nn.dropout(h_1,p)\n",
    "    \n",
    "    W_2 = xiaver_init((num_hidden,num_labels))\n",
    "    b_2 = tf.Variable(tf.zeros([num_labels]))\n",
    "    \n",
    "    a_2=tf.matmul(h_1d,W_2)+b_2\n",
    "    loss = tf.reduce_mean(tf.nn.softmax_cross_entropy_with_logits(a_2, tf_train_y))\n",
    "    +beta*tf.reduce_sum(tf.abs(W_1))+beta*tf.n\n",
    "\n",
    "    opt = tf.train.AdamOptimizer().minimize(loss)\n",
    "    \n",
    "    train_pred=tf.nn.softmax(a_2)\n",
    "    val_pred= tf.nn.softmax(\n",
    "        tf.matmul(tf.nn.dropout(tf.nn.relu(tf.matmul(tf_valid_x, W_1) + b_1),p),W_2)+b_2)\n",
    "    test_pred= tf.nn.softmax(\n",
    "        tf.matmul(tf.nn.dropout(tf.nn.relu(tf.matmul(tf_test_x, W_1) + b_1),p),W_2)+b_2)\n",
    "    "
   ]
  },
  {
   "cell_type": "code",
   "execution_count": 21,
   "metadata": {
    "collapsed": false
   },
   "outputs": [
    {
     "name": "stdout",
     "output_type": "stream",
     "text": [
      "Initialized\n",
      "Iteration 1 Minibatch Loss 35.608452 Accuracy 6.0%\n",
      "Validation Accuracy 11.363636%\n",
      "\n",
      "Iteration 1000 Minibatch Loss 3.699441 Accuracy 14.0%\n",
      "Validation Accuracy 22.129187%\n",
      "\n",
      "Iteration 2000 Minibatch Loss 2.470782 Accuracy 21.0%\n",
      "Validation Accuracy 25.000000%\n",
      "\n",
      "Iteration 3000 Minibatch Loss 2.373599 Accuracy 19.0%\n",
      "Validation Accuracy 26.674641%\n",
      "\n",
      "Iteration 4000 Minibatch Loss 2.259701 Accuracy 18.0%\n",
      "Validation Accuracy 26.674641%\n",
      "\n",
      "Iteration 5000 Minibatch Loss 2.090834 Accuracy 27.0%\n",
      "Validation Accuracy 25.837321%\n",
      "\n",
      "Iteration 6000 Minibatch Loss 2.224057 Accuracy 17.0%\n",
      "Validation Accuracy 27.153110%\n",
      "\n",
      "Iteration 7000 Minibatch Loss 2.344597 Accuracy 20.0%\n",
      "Validation Accuracy 26.555024%\n",
      "\n",
      "Iteration 8000 Minibatch Loss 2.121606 Accuracy 23.0%\n",
      "Validation Accuracy 25.717703%\n",
      "\n",
      "Iteration 9000 Minibatch Loss 2.083227 Accuracy 17.0%\n",
      "Validation Accuracy 25.239234%\n",
      "\n",
      "Iteration 10000 Minibatch Loss 1.885052 Accuracy 32.0%\n",
      "Validation Accuracy 25.717703%\n",
      "\n"
     ]
    }
   ],
   "source": [
    "num_steps = int(1e4)\n",
    "\n",
    "with tf.Session(graph=graph) as session:\n",
    "    tf.initialize_all_variables().run()\n",
    "    print(\"Initialized\")\n",
    "    k=0\n",
    "    for step in range(1,num_steps+1):\n",
    "    # Pick an offset within the training data, which has been randomized.\n",
    "    # Note: we could use better randomization across epochs.\n",
    "        offset = (step * batch_size) % (y_train.shape[0] - batch_size)\n",
    "        k+=batch_size\n",
    "    \n",
    "        if k > y_train.shape[0]:\n",
    "        #print(\"Reshuffling\")\n",
    "            idx=np.random.permutation(y_train.shape[0])\n",
    "            X_train=X_train[idx,:]\n",
    "            y_train=y_train[idx]\n",
    "            k=0\n",
    "    \n",
    "    # Generate a minibatch.\n",
    "        batch_data = X_train[offset:(offset + batch_size), :]\n",
    "        batch_labels = y_train[offset:(offset + batch_size), :]\n",
    "    # Prepare a dictionary telling the session where to feed the minibatch.\n",
    "    # The key of the dictionary is the placeholder node of the graph to be fed,\n",
    "    # and the value is the numpy array to feed to it.\n",
    "        feed_dict = {tf_train_x : batch_data, tf_train_y : batch_labels, p:.2}\n",
    "        _, l, predictions= session.run(\n",
    "          [opt, loss, train_pred], feed_dict=feed_dict)\n",
    "    \n",
    "        if step % 1000 == 0 or step==1:\n",
    "            print \"Iteration %d Minibatch Loss %f Accuracy %.1f%%\" %(step,l,accuracy(predictions,batch_labels))\n",
    "            print \"Validation Accuracy %f%%\\n\" % (accuracy(val_pred.eval({p:1}),y_val))\n",
    "    \n",
    "    #print \"Test Accuracy %f%%\\n\" % (accuracy(test_pred.eval({p:1}),y_test)) "
   ]
  },
  {
   "cell_type": "code",
   "execution_count": null,
   "metadata": {
    "collapsed": true
   },
   "outputs": [],
   "source": []
  }
 ],
 "metadata": {
  "kernelspec": {
   "display_name": "Python 2",
   "language": "python",
   "name": "python2"
  },
  "language_info": {
   "codemirror_mode": {
    "name": "ipython",
    "version": 2
   },
   "file_extension": ".py",
   "mimetype": "text/x-python",
   "name": "python",
   "nbconvert_exporter": "python",
   "pygments_lexer": "ipython2",
   "version": "2.7.12"
  }
 },
 "nbformat": 4,
 "nbformat_minor": 0
}
