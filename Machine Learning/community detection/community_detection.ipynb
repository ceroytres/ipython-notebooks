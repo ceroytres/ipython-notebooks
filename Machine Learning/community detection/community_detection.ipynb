{
 "cells": [
  {
   "cell_type": "markdown",
   "metadata": {},
   "source": [
    "# Community Detection "
   ]
  },
  {
   "cell_type": "code",
   "execution_count": 9,
   "metadata": {
    "collapsed": false
   },
   "outputs": [
    {
     "data": {
      "text/plain": [
       "[(1, 32),\n",
       " (1, 2),\n",
       " (1, 3),\n",
       " (1, 4),\n",
       " (1, 5),\n",
       " (1, 6),\n",
       " (1, 7),\n",
       " (1, 8),\n",
       " (1, 9),\n",
       " (1, 11),\n",
       " (1, 12),\n",
       " (1, 13),\n",
       " (1, 14),\n",
       " (1, 18),\n",
       " (1, 20),\n",
       " (1, 22),\n",
       " (2, 3),\n",
       " (2, 4),\n",
       " (2, 8),\n",
       " (2, 14),\n",
       " (2, 18),\n",
       " (2, 20),\n",
       " (2, 22),\n",
       " (2, 31),\n",
       " (3, 4),\n",
       " (3, 33),\n",
       " (3, 8),\n",
       " (3, 9),\n",
       " (3, 10),\n",
       " (3, 14),\n",
       " (3, 28),\n",
       " (3, 29),\n",
       " (4, 8),\n",
       " (4, 13),\n",
       " (4, 14),\n",
       " (5, 11),\n",
       " (5, 7),\n",
       " (6, 7),\n",
       " (6, 11),\n",
       " (6, 17),\n",
       " (7, 17),\n",
       " (9, 31),\n",
       " (9, 34),\n",
       " (9, 33),\n",
       " (10, 34),\n",
       " (14, 34),\n",
       " (15, 33),\n",
       " (15, 34),\n",
       " (16, 33),\n",
       " (16, 34),\n",
       " (19, 33),\n",
       " (19, 34),\n",
       " (20, 34),\n",
       " (21, 33),\n",
       " (21, 34),\n",
       " (23, 33),\n",
       " (23, 34),\n",
       " (24, 33),\n",
       " (24, 26),\n",
       " (24, 28),\n",
       " (24, 34),\n",
       " (24, 30),\n",
       " (25, 32),\n",
       " (25, 26),\n",
       " (25, 28),\n",
       " (26, 32),\n",
       " (27, 34),\n",
       " (27, 30),\n",
       " (28, 34),\n",
       " (29, 32),\n",
       " (29, 34),\n",
       " (30, 33),\n",
       " (30, 34),\n",
       " (31, 34),\n",
       " (31, 33),\n",
       " (32, 33),\n",
       " (32, 34),\n",
       " (33, 34)]"
      ]
     },
     "execution_count": 9,
     "metadata": {},
     "output_type": "execute_result"
    }
   ],
   "source": [
    "\n",
    "\n",
    "class Graph(object):\n",
    "    \n",
    "    def __init__():\n"
   ]
  },
  {
   "cell_type": "code",
   "execution_count": null,
   "metadata": {
    "collapsed": false
   },
   "outputs": [],
   "source": [
    "\n"
   ]
  },
  {
   "cell_type": "code",
   "execution_count": null,
   "metadata": {
    "collapsed": true
   },
   "outputs": [],
   "source": []
  }
 ],
 "metadata": {
  "kernelspec": {
   "display_name": "Python 2",
   "language": "python",
   "name": "python2"
  },
  "language_info": {
   "codemirror_mode": {
    "name": "ipython",
    "version": 2
   },
   "file_extension": ".py",
   "mimetype": "text/x-python",
   "name": "python",
   "nbconvert_exporter": "python",
   "pygments_lexer": "ipython2",
   "version": "2.7.11"
  }
 },
 "nbformat": 4,
 "nbformat_minor": 0
}
