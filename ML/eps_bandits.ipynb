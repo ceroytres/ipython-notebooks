{
 "cells": [
  {
   "cell_type": "markdown",
   "metadata": {},
   "source": [
    "# $\\varepsilon$ - Greedy Multi-Arm Bandits"
   ]
  },
  {
   "cell_type": "code",
   "execution_count": 13,
   "metadata": {
    "collapsed": false
   },
   "outputs": [
    {
     "data": {
      "image/png": "[encoded data removed]",
      "text/plain": [
       "<matplotlib.figure.Figure at 0x3f4b6a0>"
      ]
     },
     "metadata": {},
     "output_type": "display_data"
    },
    {
     "name": "stdout",
     "output_type": "stream",
     "text": [
      "[ 0.26416704  0.14529899  0.08975951  0.29851219  0.29306404  0.57812798\n",
      "  0.2877437   0.01515852  0.86511365  0.9011757 ]\n"
     ]
    }
   ],
   "source": [
    "import numpy as np\n",
    "\n",
    "\n",
    "\n",
    "%matplotlib inline\n",
    "\n",
    "class EpsilonGreedy_Strategy(object):\n",
    "    def __init__(self,k,eps):\n",
    "        self.k=k\n",
    "        self.Q=np.zeros(k)\n",
    "        self.N=np.zeros(k)\n",
    "        self.eps=eps\n",
    "        \n",
    "    def update(self,R,a):\n",
    "        self.N[a]+=1\n",
    "        self.Q[a]=self.Q[a]+(1./self.N[a])*(R-self.Q[a])\n",
    "    \n",
    "    def choose_action(self):\n",
    "        if np.random.rand()<1-self.eps:\n",
    "            return self.Q.argmax()\n",
    "        else:\n",
    "            return np.random.randint(0,k)\n",
    "\n",
    "        \n",
    "if __name__==\"__main__\":\n",
    "    import matplotlib.pyplot as plt\n",
    "    \n",
    "    k=10\n",
    "    R=(np.array(range(k)))/float(k)\n",
    "    \n",
    "    def bandit_k(a,R):\n",
    "        return np.random.randn()+R[a]\n",
    "    \n",
    "    player_1=EpsilonGreedy_Strategy(k,1e-4)\n",
    "    T=int(1e6)\n",
    "    A_player_1=np.zeros(T)\n",
    "\n",
    "    for i in xrange(0,T):\n",
    "        \n",
    "        A=player_1.choose_action()\n",
    "        A_player_1[i]=A\n",
    "        R_out=bandit_k(A,R)\n",
    "        player_1.update(R_out,A)\n",
    "        \n",
    "    plt.semilogx(A_player_1+1)\n",
    "    plt.show()\n",
    "    print player_1.Q\n"
   ]
  },
  {
   "cell_type": "code",
   "execution_count": 12,
   "metadata": {
    "collapsed": false
   },
   "outputs": [
    {
     "data": {
      "text/plain": [
       "array([ 0. ,  0.1,  0.2,  0.3,  0.4,  0.5,  0.6,  0.7,  0.8,  0.9])"
      ]
     },
     "execution_count": 12,
     "metadata": {},
     "output_type": "execute_result"
    }
   ],
   "source": [
    "R"
   ]
  },
  {
   "cell_type": "code",
   "execution_count": null,
   "metadata": {
    "collapsed": true
   },
   "outputs": [],
   "source": []
  },
  {
   "cell_type": "code",
   "execution_count": null,
   "metadata": {
    "collapsed": true
   },
   "outputs": [],
   "source": []
  }
 ],
 "metadata": {
  "kernelspec": {
   "display_name": "Python 2",
   "language": "python",
   "name": "python2"
  },
  "language_info": {
   "codemirror_mode": {
    "name": "ipython",
    "version": 2
   },
   "file_extension": ".py",
   "mimetype": "text/x-python",
   "name": "python",
   "nbconvert_exporter": "python",
   "pygments_lexer": "ipython2",
   "version": "2.7.11"
  }
 },
 "nbformat": 4,
 "nbformat_minor": 0
}
